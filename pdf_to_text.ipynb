{
  "nbformat": 4,
  "nbformat_minor": 0,
  "metadata": {
    "colab": {
      "name": "pdf to text.ipynb",
      "provenance": [],
      "collapsed_sections": []
    },
    "kernelspec": {
      "name": "python3",
      "display_name": "Python 3"
    },
    "accelerator": "GPU"
  },
  "cells": [
    {
      "cell_type": "markdown",
      "metadata": {
        "id": "SgLzuXWihlJi",
        "colab_type": "text"
      },
      "source": [
        "**Importing libraries**\n",
        "\n",
        "\n"
      ]
    },
    {
      "cell_type": "code",
      "metadata": {
        "id": "7NN_bXAO3TK9",
        "colab_type": "code",
        "colab": {
          "base_uri": "https://localhost:8080/",
          "height": 1000
        },
        "outputId": "8eb072c0-aeb6-4d1d-90de-8db6b91bdc21"
      },
      "source": [
        "!pip install pdfminer.six \n",
        "!pip install pillow\n",
        "!pip3 install pytesseract\n",
        "!sudo apt-get install tesseract-ocr\n",
        "!pip3 install pdf2image"
      ],
      "execution_count": 1,
      "outputs": [
        {
          "output_type": "stream",
          "text": [
            "Collecting pdfminer.six\n",
            "\u001b[?25l  Downloading https://files.pythonhosted.org/packages/b0/c0/ef1c8758bbd86edb10b5443700aac97d0ba27a9ca2e7696db8cd1fdbd5a8/pdfminer.six-20200517-py3-none-any.whl (5.6MB)\n",
            "\u001b[K     |████████████████████████████████| 5.6MB 10.1MB/s \n",
            "\u001b[?25hRequirement already satisfied: chardet; python_version > \"3.0\" in /usr/local/lib/python3.6/dist-packages (from pdfminer.six) (3.0.4)\n",
            "Requirement already satisfied: sortedcontainers in /usr/local/lib/python3.6/dist-packages (from pdfminer.six) (2.2.2)\n",
            "Collecting pycryptodome\n",
            "\u001b[?25l  Downloading https://files.pythonhosted.org/packages/af/16/da16a22d47bac9bf9db39f3b9af74e8eeed8855c0df96be20b580ef92fff/pycryptodome-3.9.7-cp36-cp36m-manylinux1_x86_64.whl (13.7MB)\n",
            "\u001b[K     |████████████████████████████████| 13.7MB 237kB/s \n",
            "\u001b[?25hInstalling collected packages: pycryptodome, pdfminer.six\n",
            "Successfully installed pdfminer.six-20200517 pycryptodome-3.9.7\n",
            "Requirement already satisfied: pillow in /usr/local/lib/python3.6/dist-packages (7.0.0)\n",
            "Collecting pytesseract\n",
            "  Downloading https://files.pythonhosted.org/packages/1d/d8/521db389ff0aae32035bfda6ed39cb2c2e28521c47015f6431f07460c50a/pytesseract-0.3.4.tar.gz\n",
            "Requirement already satisfied: Pillow in /usr/local/lib/python3.6/dist-packages (from pytesseract) (7.0.0)\n",
            "Building wheels for collected packages: pytesseract\n",
            "  Building wheel for pytesseract (setup.py) ... \u001b[?25l\u001b[?25hdone\n",
            "  Created wheel for pytesseract: filename=pytesseract-0.3.4-py2.py3-none-any.whl size=13431 sha256=2b14dad906faa2eb5eb376fd8e0c2bb1739334cada10d72e55a6e6854323c29c\n",
            "  Stored in directory: /root/.cache/pip/wheels/63/2a/a0/7596d2e0a73cf0aeffd6f6170862c4e73f3763b7827e48691a\n",
            "Successfully built pytesseract\n",
            "Installing collected packages: pytesseract\n",
            "Successfully installed pytesseract-0.3.4\n",
            "Reading package lists... Done\n",
            "Building dependency tree       \n",
            "Reading state information... Done\n",
            "The following package was automatically installed and is no longer required:\n",
            "  libnvidia-common-440\n",
            "Use 'sudo apt autoremove' to remove it.\n",
            "The following additional packages will be installed:\n",
            "  tesseract-ocr-eng tesseract-ocr-osd\n",
            "The following NEW packages will be installed:\n",
            "  tesseract-ocr tesseract-ocr-eng tesseract-ocr-osd\n",
            "0 upgraded, 3 newly installed, 0 to remove and 59 not upgraded.\n",
            "Need to get 4,795 kB of archives.\n",
            "After this operation, 15.8 MB of additional disk space will be used.\n",
            "Get:1 http://archive.ubuntu.com/ubuntu bionic/universe amd64 tesseract-ocr-eng all 4.00~git24-0e00fe6-1.2 [1,588 kB]\n",
            "Get:2 http://archive.ubuntu.com/ubuntu bionic/universe amd64 tesseract-ocr-osd all 4.00~git24-0e00fe6-1.2 [2,989 kB]\n",
            "Get:3 http://archive.ubuntu.com/ubuntu bionic/universe amd64 tesseract-ocr amd64 4.00~git2288-10f4998a-2 [218 kB]\n",
            "Fetched 4,795 kB in 0s (33.0 MB/s)\n",
            "debconf: unable to initialize frontend: Dialog\n",
            "debconf: (No usable dialog-like program is installed, so the dialog based frontend cannot be used. at /usr/share/perl5/Debconf/FrontEnd/Dialog.pm line 76, <> line 3.)\n",
            "debconf: falling back to frontend: Readline\n",
            "debconf: unable to initialize frontend: Readline\n",
            "debconf: (This frontend requires a controlling tty.)\n",
            "debconf: falling back to frontend: Teletype\n",
            "dpkg-preconfigure: unable to re-open stdin: \n",
            "Selecting previously unselected package tesseract-ocr-eng.\n",
            "(Reading database ... 144328 files and directories currently installed.)\n",
            "Preparing to unpack .../tesseract-ocr-eng_4.00~git24-0e00fe6-1.2_all.deb ...\n",
            "Unpacking tesseract-ocr-eng (4.00~git24-0e00fe6-1.2) ...\n",
            "Selecting previously unselected package tesseract-ocr-osd.\n",
            "Preparing to unpack .../tesseract-ocr-osd_4.00~git24-0e00fe6-1.2_all.deb ...\n",
            "Unpacking tesseract-ocr-osd (4.00~git24-0e00fe6-1.2) ...\n",
            "Selecting previously unselected package tesseract-ocr.\n",
            "Preparing to unpack .../tesseract-ocr_4.00~git2288-10f4998a-2_amd64.deb ...\n",
            "Unpacking tesseract-ocr (4.00~git2288-10f4998a-2) ...\n",
            "Setting up tesseract-ocr-osd (4.00~git24-0e00fe6-1.2) ...\n",
            "Setting up tesseract-ocr-eng (4.00~git24-0e00fe6-1.2) ...\n",
            "Setting up tesseract-ocr (4.00~git2288-10f4998a-2) ...\n",
            "Processing triggers for man-db (2.8.3-2ubuntu0.1) ...\n",
            "Collecting pdf2image\n",
            "  Downloading https://files.pythonhosted.org/packages/c6/62/bf2df0547cf4e216b329a9d39a7aa6c755f02071e63e17a4b76690ebfe20/pdf2image-1.13.1-py3-none-any.whl\n",
            "Requirement already satisfied: pillow in /usr/local/lib/python3.6/dist-packages (from pdf2image) (7.0.0)\n",
            "Installing collected packages: pdf2image\n",
            "Successfully installed pdf2image-1.13.1\n"
          ],
          "name": "stdout"
        }
      ]
    },
    {
      "cell_type": "code",
      "metadata": {
        "id": "sVYvDxagHhHz",
        "colab_type": "code",
        "colab": {
          "base_uri": "https://localhost:8080/",
          "height": 35
        },
        "outputId": "e4f2a1ec-3450-43d7-d35c-9bb7f897da08"
      },
      "source": [
        "import pdfminer\n",
        "print(pdfminer.__version__)"
      ],
      "execution_count": 2,
      "outputs": [
        {
          "output_type": "stream",
          "text": [
            "20200517\n"
          ],
          "name": "stdout"
        }
      ]
    },
    {
      "cell_type": "markdown",
      "metadata": {
        "id": "TJYKgwqFiEPo",
        "colab_type": "text"
      },
      "source": [
        "**Extracting Horizontal text**"
      ]
    },
    {
      "cell_type": "code",
      "metadata": {
        "id": "LnbC0XoATnvw",
        "colab_type": "code",
        "colab": {}
      },
      "source": [
        "from pdfminer.high_level import extract_text"
      ],
      "execution_count": 4,
      "outputs": []
    },
    {
      "cell_type": "code",
      "metadata": {
        "id": "Vukovm2bRNR2",
        "colab_type": "code",
        "colab": {}
      },
      "source": [
        "text1 = extract_text('/content/pdf2txt/mhv.pdf')"
      ],
      "execution_count": 7,
      "outputs": []
    },
    {
      "cell_type": "code",
      "metadata": {
        "id": "roOazALYt0dY",
        "colab_type": "code",
        "colab": {
          "base_uri": "https://localhost:8080/",
          "height": 1000
        },
        "outputId": "b6da7dbd-15d2-425e-880b-97e1e2d23388"
      },
      "source": [
        "print(text1)"
      ],
      "execution_count": 8,
      "outputs": [
        {
          "output_type": "stream",
          "text": [
            "Maharashtra Lockdown Extension \n",
            "guidelines  \n",
            "\n",
            "  \n",
            "As the nation begins to lift lockdown from non-containment zone areas, \n",
            "every state has its own formula and set of guidelines. Here are \n",
            "Maharashtra's rules.  \n",
            "  \n",
            "Maharashtra, the worst-affected among COVID-19 pandemic-hit states \n",
            "across India, gears up for what it calls 'Mission Begin Again'. The state has \n",
            "issued strict guidelines about how it plans to achieve the same so as to end \n",
            "the pandemic soon.   \n",
            "As Lockdown 5.0 comes into implementation across India, barring \n",
            "containment zones, all other zones will see a phased lift-off of restrictions \n",
            "imposed to stall the march of the coronavirus pandemic.   \n",
            "The Centre has agreed to allow playroom to states as the pandemic is \n",
            "playing out differently in individual states. There is a rider there, though. \n",
            "The states cannot arbitrarily lift or impose restrictions without paying \n",
            "impetus to the Centre's key guidelines.  \n",
            "  \n",
            "The Maharashtra government on Monday announced rules for passengers \n",
            "travelling through the airports in Mumbai and others in the state amid the \n",
            "coronavirus lockdown. Limited domestic air travel resumed across the \n",
            "country on Monday amid disarray after some states restricted the number \n",
            "of flights hours before departure, causing last-minute cancellations and \n",
            "leaving hundreds of passengers stranded.  \n",
            "Airlines, including IndiGo, India's biggest carrier, SpiceJet and Vistara had \n",
            "been preparing to resume operations from Monday with about a third of \n",
            "their capacity amid strict rules. But new restrictions at major airports, \n",
            "including Mumbai and Chennai, forced airlines to scramble late on Sunday \n",
            "to revise schedules.  \n",
            "Worst-affected by the coronavirus pandemic in India, Maharashtra, which \n",
            "said it will allow 25 flights to Mumbai for now, announced a set of Standard \n",
            "Operating Procedures (SOPs) and guidelines for travellers coming into the \n",
            "state. These include:  \n",
            "\n",
            "● All passengers will be advised to download the Aarogya Setu app.  \n",
            "\n",
            "\f● They will have to declare that they are not coming from any \n",
            "\n",
            "containment zone and don't have any COVID-19 symptoms.  \n",
            "\n",
            "  \n",
            "\n",
            "● They will also need to declare that they have not tested \n",
            "\n",
            "coronavirus positive in the last two months and are not under \n",
            "quarantine.  \n",
            "\n",
            "● Anyone travelling without meeting the required conditions will face \n",
            "\n",
            "● Airlines and airports will ensure social distancing at all times and \n",
            "\n",
            "● All passengers, crew and other staff will have to wear masks and \n",
            "\n",
            "action.  \n",
            "\n",
            "thermal screening.  \n",
            "\n",
            "follow sanitation rules.  \n",
            "\n",
            "● All passengers will be stamped on their left hand and be under \n",
            "\n",
            "● Local officials will be authorised to give exemptions to isolation \n",
            "\n",
            "home isolation for 14 days.  \n",
            "\n",
            "rule for important work.  \n",
            "\n",
            "● Passengers who are coming to the state for less than one week \n",
            "\n",
            "will be exempt from home isolation.  \n",
            "\n",
            "● Passengers will not be allowed into containment zones of hotspot \n",
            "\n",
            "● Authorities need to be informed of where a passenger is staying if \n",
            "\n",
            "areas.  \n",
            "\n",
            "other than their homes.  \n",
            "\n",
            "● Passengers are permitted to travel in their personal vehicles to the \n",
            "\n",
            "airport as long as they don't travel from a containment zone.  \n",
            "\n",
            "For offices and workplaces  \n",
            "Since more offices are likely to go operational in the near future, the \n",
            "state has issued guidelines for its employees. In a public health \n",
            "department order dated May 30, it has asked the employees to \n",
            "effectively use e-office regime, avoid travelling in groups, sanitise \n",
            "working places regularly.  \n",
            "It has also mandated for the regular checking of the employees with \n",
            "an infrared thermal scanner, use of three-layer masks, etc.  \n",
            "The order also stated that any employee found with a temperature \n",
            "more than 100.4 degrees should be institutionally quarantined and \n",
            "\n",
            "\fworkplaces found with more than 5 positive patients to be fumigated \n",
            "and sealed.  \n",
            "Meanwhile, Madhav Sathe, former microbiology professor at Nair  \n",
            "  \n",
            " Hospital said, “We should hope India has reached the peak of the \n",
            "coronavirus graph and cases will slowly decrease over the next 3 to \n",
            "4 weeks. Recovery rate has also increased to around 41 to 42% \n",
            "This may improve if the best treatment strategy gets emerged in the \n",
            "next few weeks in India.”  \n",
            "Sathe added, “By mid-July most cases will be milder.” On whether \n",
            "Mumbai can get ride of lockdown by July, Sathe said crowding still \n",
            "may have to be avoided. “With maximum precautions, mask, eye \n",
            "shield, washing hands after reaching office and maintaining good \n",
            "immunity is all that will be needed, and crowding still will have to be \n",
            "avoided,” he said.  \n",
            "\n",
            "\f \n",
            "\n",
            "\f\n"
          ],
          "name": "stdout"
        }
      ]
    },
    {
      "cell_type": "markdown",
      "metadata": {
        "id": "REInXhyoiXJi",
        "colab_type": "text"
      },
      "source": [
        "**Extracting Vertical text:**\n",
        "\n",
        "\n",
        "1.   collecting all the vertical text\n",
        "2.   turned into image and then converted into text\n",
        "\n"
      ]
    },
    {
      "cell_type": "code",
      "metadata": {
        "id": "y6AbbCj0oYFB",
        "colab_type": "code",
        "colab": {
          "base_uri": "https://localhost:8080/",
          "height": 608
        },
        "outputId": "05187e37-d910-47bc-f039-2a2ba541f580"
      },
      "source": [
        "!apt-get install poppler-utils\n",
        "!sudo apt-get install python-poppler\n",
        "!sudo apt install tesseract-ocr\n",
        "!sudo apt install libtesseract-dev\n",
        "!pip install termcolor"
      ],
      "execution_count": 19,
      "outputs": [
        {
          "output_type": "stream",
          "text": [
            "\rReading package lists... 0%\r\rReading package lists... 0%\r\rReading package lists... 0%\r\rReading package lists... 6%\r\rReading package lists... 6%\r\rReading package lists... 6%\r\rReading package lists... 6%\r\rReading package lists... 62%\r\rReading package lists... 62%\r\rReading package lists... 63%\r\rReading package lists... 63%\r\rReading package lists... 71%\r\rReading package lists... 71%\r\rReading package lists... 71%\r\rReading package lists... 71%\r\rReading package lists... 77%\r\rReading package lists... 80%\r\rReading package lists... 80%\r\rReading package lists... 80%\r\rReading package lists... 80%\r\rReading package lists... 81%\r\rReading package lists... 81%\r\rReading package lists... 81%\r\rReading package lists... 81%\r\rReading package lists... 87%\r\rReading package lists... 87%\r\rReading package lists... 87%\r\rReading package lists... 87%\r\rReading package lists... 93%\r\rReading package lists... 93%\r\rReading package lists... 93%\r\rReading package lists... 93%\r\rReading package lists... 93%\r\rReading package lists... 93%\r\rReading package lists... 94%\r\rReading package lists... 94%\r\rReading package lists... 95%\r\rReading package lists... 95%\r\rReading package lists... 98%\r\rReading package lists... 98%\r\rReading package lists... 98%\r\rReading package lists... 98%\r\rReading package lists... Done\r\n",
            "\rBuilding dependency tree... 0%\r\rBuilding dependency tree... 0%\r\rBuilding dependency tree... 50%\r\rBuilding dependency tree... 50%\r\rBuilding dependency tree       \r\n",
            "\rReading state information... 0%\r\rReading state information... 0%\r\rReading state information... Done\r\n",
            "poppler-utils is already the newest version (0.62.0-2ubuntu2.10).\n",
            "The following package was automatically installed and is no longer required:\n",
            "  libnvidia-common-440\n",
            "Use 'apt autoremove' to remove it.\n",
            "0 upgraded, 0 newly installed, 0 to remove and 59 not upgraded.\n",
            "Reading package lists... Done\n",
            "Building dependency tree       \n",
            "Reading state information... Done\n",
            "python-poppler is already the newest version (0.12.1-10).\n",
            "The following package was automatically installed and is no longer required:\n",
            "  libnvidia-common-440\n",
            "Use 'sudo apt autoremove' to remove it.\n",
            "0 upgraded, 0 newly installed, 0 to remove and 59 not upgraded.\n",
            "Reading package lists... Done\n",
            "Building dependency tree       \n",
            "Reading state information... Done\n",
            "tesseract-ocr is already the newest version (4.00~git2288-10f4998a-2).\n",
            "The following package was automatically installed and is no longer required:\n",
            "  libnvidia-common-440\n",
            "Use 'sudo apt autoremove' to remove it.\n",
            "0 upgraded, 0 newly installed, 0 to remove and 59 not upgraded.\n",
            "Reading package lists... Done\n",
            "Building dependency tree       \n",
            "Reading state information... Done\n",
            "libtesseract-dev is already the newest version (4.00~git2288-10f4998a-2).\n",
            "The following package was automatically installed and is no longer required:\n",
            "  libnvidia-common-440\n",
            "Use 'sudo apt autoremove' to remove it.\n",
            "0 upgraded, 0 newly installed, 0 to remove and 59 not upgraded.\n",
            "Requirement already satisfied: termcolor in /usr/local/lib/python3.6/dist-packages (1.1.0)\n"
          ],
          "name": "stdout"
        }
      ]
    },
    {
      "cell_type": "markdown",
      "metadata": {
        "id": "tQ_nD4u4i-nf",
        "colab_type": "text"
      },
      "source": [
        "collecting images"
      ]
    },
    {
      "cell_type": "code",
      "metadata": {
        "id": "dNzdbEqSolXa",
        "colab_type": "code",
        "colab": {}
      },
      "source": [
        "!pdfimages -all /content/pdf2txt/mhv.pdf /content/images_found"
      ],
      "execution_count": 12,
      "outputs": []
    },
    {
      "cell_type": "code",
      "metadata": {
        "id": "nmW9J0GfrCFj",
        "colab_type": "code",
        "colab": {}
      },
      "source": [
        "img=\"/content/pdf2txt/images_found-000.png\""
      ],
      "execution_count": 21,
      "outputs": []
    },
    {
      "cell_type": "markdown",
      "metadata": {
        "id": "4R1TOvaGjMLy",
        "colab_type": "text"
      },
      "source": [
        "**Extracting vertical text**"
      ]
    },
    {
      "cell_type": "code",
      "metadata": {
        "id": "S4vWX0H67LTH",
        "colab_type": "code",
        "colab": {
          "base_uri": "https://localhost:8080/",
          "height": 35
        },
        "outputId": "474c7327-652a-47c9-cbb9-32816a2a4d4c"
      },
      "source": [
        "import pytesseract\n",
        "from PIL import Image\n",
        "\n",
        "value=Image.open(img)\n",
        "text2 = pytesseract.image_to_string(value, config='')    \n",
        "print(\"Vertical text present in Pdf:\",text2)"
      ],
      "execution_count": 22,
      "outputs": [
        {
          "output_type": "stream",
          "text": [
            "Vertical text present in Pdf: maintaining good immunity\n"
          ],
          "name": "stdout"
        }
      ]
    },
    {
      "cell_type": "code",
      "metadata": {
        "id": "VH8ixqSdZFaI",
        "colab_type": "code",
        "colab": {}
      },
      "source": [
        "from termcolor import colored\n",
        "\n",
        "text =colored(text1, 'red') + colored(text2, 'green')\n"
      ],
      "execution_count": 23,
      "outputs": []
    },
    {
      "cell_type": "code",
      "metadata": {
        "id": "4AlgRwnwcvaR",
        "colab_type": "code",
        "colab": {
          "base_uri": "https://localhost:8080/",
          "height": 1000
        },
        "outputId": "6b512b9a-2642-4988-d36f-22bf04be4c04"
      },
      "source": [
        "print(text)"
      ],
      "execution_count": 24,
      "outputs": [
        {
          "output_type": "stream",
          "text": [
            "\u001b[31mMaharashtra Lockdown Extension \n",
            "guidelines  \n",
            "\n",
            "  \n",
            "As the nation begins to lift lockdown from non-containment zone areas, \n",
            "every state has its own formula and set of guidelines. Here are \n",
            "Maharashtra's rules.  \n",
            "  \n",
            "Maharashtra, the worst-affected among COVID-19 pandemic-hit states \n",
            "across India, gears up for what it calls 'Mission Begin Again'. The state has \n",
            "issued strict guidelines about how it plans to achieve the same so as to end \n",
            "the pandemic soon.   \n",
            "As Lockdown 5.0 comes into implementation across India, barring \n",
            "containment zones, all other zones will see a phased lift-off of restrictions \n",
            "imposed to stall the march of the coronavirus pandemic.   \n",
            "The Centre has agreed to allow playroom to states as the pandemic is \n",
            "playing out differently in individual states. There is a rider there, though. \n",
            "The states cannot arbitrarily lift or impose restrictions without paying \n",
            "impetus to the Centre's key guidelines.  \n",
            "  \n",
            "The Maharashtra government on Monday announced rules for passengers \n",
            "travelling through the airports in Mumbai and others in the state amid the \n",
            "coronavirus lockdown. Limited domestic air travel resumed across the \n",
            "country on Monday amid disarray after some states restricted the number \n",
            "of flights hours before departure, causing last-minute cancellations and \n",
            "leaving hundreds of passengers stranded.  \n",
            "Airlines, including IndiGo, India's biggest carrier, SpiceJet and Vistara had \n",
            "been preparing to resume operations from Monday with about a third of \n",
            "their capacity amid strict rules. But new restrictions at major airports, \n",
            "including Mumbai and Chennai, forced airlines to scramble late on Sunday \n",
            "to revise schedules.  \n",
            "Worst-affected by the coronavirus pandemic in India, Maharashtra, which \n",
            "said it will allow 25 flights to Mumbai for now, announced a set of Standard \n",
            "Operating Procedures (SOPs) and guidelines for travellers coming into the \n",
            "state. These include:  \n",
            "\n",
            "● All passengers will be advised to download the Aarogya Setu app.  \n",
            "\n",
            "\f● They will have to declare that they are not coming from any \n",
            "\n",
            "containment zone and don't have any COVID-19 symptoms.  \n",
            "\n",
            "  \n",
            "\n",
            "● They will also need to declare that they have not tested \n",
            "\n",
            "coronavirus positive in the last two months and are not under \n",
            "quarantine.  \n",
            "\n",
            "● Anyone travelling without meeting the required conditions will face \n",
            "\n",
            "● Airlines and airports will ensure social distancing at all times and \n",
            "\n",
            "● All passengers, crew and other staff will have to wear masks and \n",
            "\n",
            "action.  \n",
            "\n",
            "thermal screening.  \n",
            "\n",
            "follow sanitation rules.  \n",
            "\n",
            "● All passengers will be stamped on their left hand and be under \n",
            "\n",
            "● Local officials will be authorised to give exemptions to isolation \n",
            "\n",
            "home isolation for 14 days.  \n",
            "\n",
            "rule for important work.  \n",
            "\n",
            "● Passengers who are coming to the state for less than one week \n",
            "\n",
            "will be exempt from home isolation.  \n",
            "\n",
            "● Passengers will not be allowed into containment zones of hotspot \n",
            "\n",
            "● Authorities need to be informed of where a passenger is staying if \n",
            "\n",
            "areas.  \n",
            "\n",
            "other than their homes.  \n",
            "\n",
            "● Passengers are permitted to travel in their personal vehicles to the \n",
            "\n",
            "airport as long as they don't travel from a containment zone.  \n",
            "\n",
            "For offices and workplaces  \n",
            "Since more offices are likely to go operational in the near future, the \n",
            "state has issued guidelines for its employees. In a public health \n",
            "department order dated May 30, it has asked the employees to \n",
            "effectively use e-office regime, avoid travelling in groups, sanitise \n",
            "working places regularly.  \n",
            "It has also mandated for the regular checking of the employees with \n",
            "an infrared thermal scanner, use of three-layer masks, etc.  \n",
            "The order also stated that any employee found with a temperature \n",
            "more than 100.4 degrees should be institutionally quarantined and \n",
            "\n",
            "\fworkplaces found with more than 5 positive patients to be fumigated \n",
            "and sealed.  \n",
            "Meanwhile, Madhav Sathe, former microbiology professor at Nair  \n",
            "  \n",
            " Hospital said, “We should hope India has reached the peak of the \n",
            "coronavirus graph and cases will slowly decrease over the next 3 to \n",
            "4 weeks. Recovery rate has also increased to around 41 to 42% \n",
            "This may improve if the best treatment strategy gets emerged in the \n",
            "next few weeks in India.”  \n",
            "Sathe added, “By mid-July most cases will be milder.” On whether \n",
            "Mumbai can get ride of lockdown by July, Sathe said crowding still \n",
            "may have to be avoided. “With maximum precautions, mask, eye \n",
            "shield, washing hands after reaching office and maintaining good \n",
            "immunity is all that will be needed, and crowding still will have to be \n",
            "avoided,” he said.  \n",
            "\n",
            "\f \n",
            "\n",
            "\f\u001b[0m\u001b[32mmaintaining good immunity\u001b[0m\n"
          ],
          "name": "stdout"
        }
      ]
    },
    {
      "cell_type": "markdown",
      "metadata": {
        "id": "v0_X-zYyjZxd",
        "colab_type": "text"
      },
      "source": [
        "Saving as a pdf file"
      ]
    },
    {
      "cell_type": "code",
      "metadata": {
        "id": "pqP6Zr2wbG6R",
        "colab_type": "code",
        "colab": {}
      },
      "source": [
        "import pickle"
      ],
      "execution_count": 25,
      "outputs": []
    },
    {
      "cell_type": "code",
      "metadata": {
        "id": "XWrSdGdxbqoM",
        "colab_type": "code",
        "colab": {}
      },
      "source": [
        "# saving\n",
        "with open('savefile.pdf', 'wb') as f:\n",
        "    pickle.dump([text], f)"
      ],
      "execution_count": 28,
      "outputs": []
    },
    {
      "cell_type": "markdown",
      "metadata": {
        "id": "5FqvF_UHjfFi",
        "colab_type": "text"
      },
      "source": [
        "**Note:**\n",
        "I have created this pdf file, for vertical text i have referred this website  https://support.microsoft.com/en-us/office/make-text-vertical-in-publisher-0d161d52-2bce-44dd-abe1-68a5dd860d5d\n",
        "\n"
      ]
    },
    {
      "cell_type": "code",
      "metadata": {
        "id": "O-IpMouRd2h7",
        "colab_type": "code",
        "colab": {}
      },
      "source": [
        ""
      ],
      "execution_count": null,
      "outputs": []
    }
  ]
}